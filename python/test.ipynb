{
 "cells": [
  {
   "cell_type": "markdown",
   "metadata": {},
   "source": [
    "# BLE Scanner Data Analysis\n",
    "\n",
    "This notebook provides a comprehensive analysis of BLE scanning data collected from our custom scanner."
   ]
  },
  {
   "cell_type": "code",
   "execution_count": 3,
   "metadata": {},
   "outputs": [],
   "source": [
    "import pandas as pd\n",
    "import numpy as np\n",
    "import matplotlib.pyplot as plt\n",
    "import seaborn as sns\n",
    "from datetime import datetime, timedelta\n",
    "from utils import *\n",
    "\n",
    "%matplotlib inline\n",
    "plt.style.use('default')  # Using default matplotlib style\\n\",\n",
    "sns.set_theme()  # Apply seaborn styling\\n\",\n",
    "plt.rcParams['figure.figsize'] = [12, 8]\n",
    "plt.rcParams['figure.dpi'] = 100\n",
    "plt.rcParams['font.size'] = 12"
   ]
  },
  {
   "cell_type": "markdown",
   "metadata": {},
   "source": [
    "## 1. Data Loading and Initial Processing"
   ]
  },
  {
   "cell_type": "code",
   "execution_count": null,
   "metadata": {},
   "outputs": [],
   "source": [
    "# Connect to MongoDB\n",
    "collection = connect_mongodb()\n",
    "\n",
    "# Query last 24 hours of data\n",
    "end_date = datetime.now()\n",
    "start_date = end_date - timedelta(days=1)\n",
    "data = query_data_by_date(collection, start_date, end_date)\n",
    "\n",
    "# Process data into DataFrame\n",
    "df = process_buffer_data(data)\n",
    "print(f\"Loaded {len(df)} records from {len(data)} buffers\")"
   ]
  },
  {
   "cell_type": "markdown",
   "metadata": {},
   "source": [
    "## 2. Temporal Analysis"
   ]
  },
  {
   "cell_type": "code",
   "execution_count": null,
   "metadata": {},
   "outputs": [],
   "source": [
    "temporal_stats = get_temporal_analysis(df)\n",
    "print(\"\\nTemporal Statistics:\")\n",
    "for key, value in temporal_stats.items():\n",
    "    print(f\"{key}: {value}\")\n",
    "\n",
    "# Plot temporal patterns\n",
    "plot_temporal_patterns(df)"
   ]
  },
  {
   "cell_type": "markdown",
   "metadata": {},
   "source": [
    "## 3. Device Analysis"
   ]
  },
  {
   "cell_type": "code",
   "execution_count": null,
   "metadata": {},
   "outputs": [],
   "source": [
    "device_stats = get_device_analysis(df)\n",
    "print(\"\\nDevice Statistics:\")\n",
    "for key, value in device_stats.items():\n",
    "    print(f\"{key}: {value}\")\n",
    "\n",
    "# Plot device patterns\n",
    "plot_device_patterns(df)"
   ]
  },
  {
   "cell_type": "markdown",
   "metadata": {},
   "source": [
    "## 4. RSSI Analysis"
   ]
  },
  {
   "cell_type": "code",
   "execution_count": null,
   "metadata": {},
   "outputs": [],
   "source": [
    "# RSSI analysis by time of day\n",
    "plt.figure(figsize=(15, 6))\n",
    "sns.boxplot(data=df, x='hour', y='rssi')\n",
    "plt.title('RSSI Distribution by Hour')\n",
    "plt.xlabel('Hour of Day')\n",
    "plt.ylabel('RSSI (dBm)')"
   ]
  },
  {
   "cell_type": "markdown",
   "metadata": {},
   "source": [
    "## 5. Device Persistence Analysis"
   ]
  },
  {
   "cell_type": "code",
   "execution_count": null,
   "metadata": {},
   "outputs": [],
   "source": [
    "# Calculate device persistence\n",
    "device_persistence = df.groupby('mac').agg({\n",
    "    'timestamp': ['min', 'max', 'count'],\n",
    "    'rssi': ['mean', 'std']\n",
    "}).reset_index()\n",
    "\n",
    "device_persistence.columns = ['mac', 'first_seen', 'last_seen', 'appearances', 'mean_rssi', 'std_rssi']\n",
    "device_persistence['duration'] = device_persistence['last_seen'] - device_persistence['first_seen']\n",
    "\n",
    "# Plot persistence patterns\n",
    "plt.figure(figsize=(15, 6))\n",
    "sns.scatterplot(data=device_persistence, x='duration', y='appearances', alpha=0.5)\n",
    "plt.title('Device Persistence vs Appearances')\n",
    "plt.xlabel('Duration Present (hours)')\n",
    "plt.ylabel('Number of Appearances')"
   ]
  }
 ],
 "metadata": {
  "kernelspec": {
   "display_name": "Python 3",
   "language": "python",
   "name": "python3"
  },
  "language_info": {
   "codemirror_mode": {
    "name": "ipython",
    "version": 3
   },
   "file_extension": ".py",
   "mimetype": "text/x-python",
   "name": "python",
   "nbconvert_exporter": "python",
   "pygments_lexer": "ipython3",
   "version": "3.12.6"
  }
 },
 "nbformat": 4,
 "nbformat_minor": 4
}
